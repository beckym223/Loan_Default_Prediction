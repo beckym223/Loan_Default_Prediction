{
 "cells": [
  {
   "cell_type": "markdown",
   "metadata": {},
   "source": [
    "### Importing data"
   ]
  },
  {
   "cell_type": "code",
   "execution_count": 3,
   "metadata": {},
   "outputs": [],
   "source": [
    "import pandas as pd"
   ]
  },
  {
   "cell_type": "code",
   "execution_count": 4,
   "metadata": {},
   "outputs": [],
   "source": [
    "data = pd.read_csv(\"loan_data.csv\")"
   ]
  },
  {
   "cell_type": "code",
   "execution_count": 12,
   "metadata": {},
   "outputs": [
    {
     "name": "stdout",
     "output_type": "stream",
     "text": [
      "Cases: 255347\n",
      "Columns: 18\n",
      "Data types:\n",
      "int64:\n",
      "   Age\n",
      "   Income\n",
      "   LoanAmount\n",
      "   CreditScore\n",
      "   MonthsEmployed\n",
      "   NumCreditLines\n",
      "   LoanTerm\n",
      "   Default\n",
      "float64:\n",
      "   InterestRate\n",
      "   DTIRatio\n",
      "object:\n",
      "   LoanID\n",
      "   Education\n",
      "   EmploymentType\n",
      "   MaritalStatus\n",
      "   HasMortgage\n",
      "   HasDependents\n",
      "   LoanPurpose\n",
      "   HasCoSigner\n"
     ]
    }
   ],
   "source": [
    "print(\"Cases:\",len(data.index))\n",
    "print(\"Columns:\",len(data.columns))\n",
    "print(\"Data types:\")\n",
    "for key,vals in data.columns.groupby(data.dtypes).items():\n",
    "    print(f\"{key}:\")\n",
    "    print('\\n'.join([f\"   {val}\" for val in vals]))\n"
   ]
  },
  {
   "cell_type": "markdown",
   "metadata": {},
   "source": [
    "### Checking Distribution of Categorical Vars"
   ]
  },
  {
   "cell_type": "code",
   "execution_count": 74,
   "metadata": {},
   "outputs": [],
   "source": [
    "melted_df=data.drop(\"LoanID\",axis=1).melt()\n",
    "counts=pd.DataFrame(melted_df[melted_df[\"value\"].apply(lambda x: isinstance(x, str))].groupby(\"variable\")['value'].value_counts())\n",
    "\n",
    "total_counts = counts.groupby('variable')['count'].sum()\n",
    "\n",
    "counts['proportion'] = counts.apply(lambda row: row['count'] / total_counts[row.name[0]], axis=1)\n",
    "counts=counts.reset_index()"
   ]
  },
  {
   "cell_type": "code",
   "execution_count": 114,
   "metadata": {},
   "outputs": [
    {
     "data": {
      "text/html": [
       "<style type=\"text/css\">\n",
       "#T_15d62_row0_col0, #T_15d62_row0_col1, #T_15d62_row0_col2, #T_15d62_row0_col3, #T_15d62_row1_col0, #T_15d62_row1_col1, #T_15d62_row1_col2, #T_15d62_row1_col3, #T_15d62_row2_col0, #T_15d62_row2_col1, #T_15d62_row2_col2, #T_15d62_row2_col3, #T_15d62_row3_col0, #T_15d62_row3_col1, #T_15d62_row3_col2, #T_15d62_row3_col3, #T_15d62_row10_col0, #T_15d62_row10_col1, #T_15d62_row10_col2, #T_15d62_row10_col3, #T_15d62_row11_col0, #T_15d62_row11_col1, #T_15d62_row11_col2, #T_15d62_row11_col3, #T_15d62_row19_col0, #T_15d62_row19_col1, #T_15d62_row19_col2, #T_15d62_row19_col3, #T_15d62_row20_col0, #T_15d62_row20_col1, #T_15d62_row20_col2, #T_15d62_row20_col3, #T_15d62_row21_col0, #T_15d62_row21_col1, #T_15d62_row21_col2, #T_15d62_row21_col3 {\n",
       "  background-color: #9e0142;\n",
       "  color: #f1f1f1;\n",
       "}\n",
       "#T_15d62_row4_col0, #T_15d62_row4_col1, #T_15d62_row4_col2, #T_15d62_row4_col3, #T_15d62_row5_col0, #T_15d62_row5_col1, #T_15d62_row5_col2, #T_15d62_row5_col3, #T_15d62_row6_col0, #T_15d62_row6_col1, #T_15d62_row6_col2, #T_15d62_row6_col3, #T_15d62_row7_col0, #T_15d62_row7_col1, #T_15d62_row7_col2, #T_15d62_row7_col3, #T_15d62_row12_col0, #T_15d62_row12_col1, #T_15d62_row12_col2, #T_15d62_row12_col3, #T_15d62_row13_col0, #T_15d62_row13_col1, #T_15d62_row13_col2, #T_15d62_row13_col3 {\n",
       "  background-color: #ffffbe;\n",
       "  color: #000000;\n",
       "}\n",
       "#T_15d62_row8_col0, #T_15d62_row8_col1, #T_15d62_row8_col2, #T_15d62_row8_col3, #T_15d62_row9_col0, #T_15d62_row9_col1, #T_15d62_row9_col2, #T_15d62_row9_col3, #T_15d62_row14_col0, #T_15d62_row14_col1, #T_15d62_row14_col2, #T_15d62_row14_col3, #T_15d62_row15_col0, #T_15d62_row15_col1, #T_15d62_row15_col2, #T_15d62_row15_col3, #T_15d62_row16_col0, #T_15d62_row16_col1, #T_15d62_row16_col2, #T_15d62_row16_col3, #T_15d62_row17_col0, #T_15d62_row17_col1, #T_15d62_row17_col2, #T_15d62_row17_col3, #T_15d62_row18_col0, #T_15d62_row18_col1, #T_15d62_row18_col2, #T_15d62_row18_col3 {\n",
       "  background-color: #5e4fa2;\n",
       "  color: #f1f1f1;\n",
       "}\n",
       "</style>\n",
       "<table id=\"T_15d62\">\n",
       "  <thead>\n",
       "    <tr>\n",
       "      <th class=\"blank level0\" >&nbsp;</th>\n",
       "      <th id=\"T_15d62_level0_col0\" class=\"col_heading level0 col0\" >variable</th>\n",
       "      <th id=\"T_15d62_level0_col1\" class=\"col_heading level0 col1\" >value</th>\n",
       "      <th id=\"T_15d62_level0_col2\" class=\"col_heading level0 col2\" >count</th>\n",
       "      <th id=\"T_15d62_level0_col3\" class=\"col_heading level0 col3\" >proportion</th>\n",
       "    </tr>\n",
       "  </thead>\n",
       "  <tbody>\n",
       "    <tr>\n",
       "      <th id=\"T_15d62_level0_row0\" class=\"row_heading level0 row0\" >0</th>\n",
       "      <td id=\"T_15d62_row0_col0\" class=\"data row0 col0\" >Education</td>\n",
       "      <td id=\"T_15d62_row0_col1\" class=\"data row0 col1\" >Bachelor's</td>\n",
       "      <td id=\"T_15d62_row0_col2\" class=\"data row0 col2\" >64366</td>\n",
       "      <td id=\"T_15d62_row0_col3\" class=\"data row0 col3\" >0.252073</td>\n",
       "    </tr>\n",
       "    <tr>\n",
       "      <th id=\"T_15d62_level0_row1\" class=\"row_heading level0 row1\" >1</th>\n",
       "      <td id=\"T_15d62_row1_col0\" class=\"data row1 col0\" >Education</td>\n",
       "      <td id=\"T_15d62_row1_col1\" class=\"data row1 col1\" >High School</td>\n",
       "      <td id=\"T_15d62_row1_col2\" class=\"data row1 col2\" >63903</td>\n",
       "      <td id=\"T_15d62_row1_col3\" class=\"data row1 col3\" >0.250259</td>\n",
       "    </tr>\n",
       "    <tr>\n",
       "      <th id=\"T_15d62_level0_row2\" class=\"row_heading level0 row2\" >2</th>\n",
       "      <td id=\"T_15d62_row2_col0\" class=\"data row2 col0\" >Education</td>\n",
       "      <td id=\"T_15d62_row2_col1\" class=\"data row2 col1\" >Master's</td>\n",
       "      <td id=\"T_15d62_row2_col2\" class=\"data row2 col2\" >63541</td>\n",
       "      <td id=\"T_15d62_row2_col3\" class=\"data row2 col3\" >0.248842</td>\n",
       "    </tr>\n",
       "    <tr>\n",
       "      <th id=\"T_15d62_level0_row3\" class=\"row_heading level0 row3\" >3</th>\n",
       "      <td id=\"T_15d62_row3_col0\" class=\"data row3 col0\" >Education</td>\n",
       "      <td id=\"T_15d62_row3_col1\" class=\"data row3 col1\" >PhD</td>\n",
       "      <td id=\"T_15d62_row3_col2\" class=\"data row3 col2\" >63537</td>\n",
       "      <td id=\"T_15d62_row3_col3\" class=\"data row3 col3\" >0.248826</td>\n",
       "    </tr>\n",
       "    <tr>\n",
       "      <th id=\"T_15d62_level0_row4\" class=\"row_heading level0 row4\" >4</th>\n",
       "      <td id=\"T_15d62_row4_col0\" class=\"data row4 col0\" >EmploymentType</td>\n",
       "      <td id=\"T_15d62_row4_col1\" class=\"data row4 col1\" >Part-time</td>\n",
       "      <td id=\"T_15d62_row4_col2\" class=\"data row4 col2\" >64161</td>\n",
       "      <td id=\"T_15d62_row4_col3\" class=\"data row4 col3\" >0.251270</td>\n",
       "    </tr>\n",
       "    <tr>\n",
       "      <th id=\"T_15d62_level0_row5\" class=\"row_heading level0 row5\" >5</th>\n",
       "      <td id=\"T_15d62_row5_col0\" class=\"data row5 col0\" >EmploymentType</td>\n",
       "      <td id=\"T_15d62_row5_col1\" class=\"data row5 col1\" >Unemployed</td>\n",
       "      <td id=\"T_15d62_row5_col2\" class=\"data row5 col2\" >63824</td>\n",
       "      <td id=\"T_15d62_row5_col3\" class=\"data row5 col3\" >0.249950</td>\n",
       "    </tr>\n",
       "    <tr>\n",
       "      <th id=\"T_15d62_level0_row6\" class=\"row_heading level0 row6\" >6</th>\n",
       "      <td id=\"T_15d62_row6_col0\" class=\"data row6 col0\" >EmploymentType</td>\n",
       "      <td id=\"T_15d62_row6_col1\" class=\"data row6 col1\" >Self-employed</td>\n",
       "      <td id=\"T_15d62_row6_col2\" class=\"data row6 col2\" >63706</td>\n",
       "      <td id=\"T_15d62_row6_col3\" class=\"data row6 col3\" >0.249488</td>\n",
       "    </tr>\n",
       "    <tr>\n",
       "      <th id=\"T_15d62_level0_row7\" class=\"row_heading level0 row7\" >7</th>\n",
       "      <td id=\"T_15d62_row7_col0\" class=\"data row7 col0\" >EmploymentType</td>\n",
       "      <td id=\"T_15d62_row7_col1\" class=\"data row7 col1\" >Full-time</td>\n",
       "      <td id=\"T_15d62_row7_col2\" class=\"data row7 col2\" >63656</td>\n",
       "      <td id=\"T_15d62_row7_col3\" class=\"data row7 col3\" >0.249292</td>\n",
       "    </tr>\n",
       "    <tr>\n",
       "      <th id=\"T_15d62_level0_row8\" class=\"row_heading level0 row8\" >8</th>\n",
       "      <td id=\"T_15d62_row8_col0\" class=\"data row8 col0\" >HasCoSigner</td>\n",
       "      <td id=\"T_15d62_row8_col1\" class=\"data row8 col1\" >Yes</td>\n",
       "      <td id=\"T_15d62_row8_col2\" class=\"data row8 col2\" >127701</td>\n",
       "      <td id=\"T_15d62_row8_col3\" class=\"data row8 col3\" >0.500108</td>\n",
       "    </tr>\n",
       "    <tr>\n",
       "      <th id=\"T_15d62_level0_row9\" class=\"row_heading level0 row9\" >9</th>\n",
       "      <td id=\"T_15d62_row9_col0\" class=\"data row9 col0\" >HasCoSigner</td>\n",
       "      <td id=\"T_15d62_row9_col1\" class=\"data row9 col1\" >No</td>\n",
       "      <td id=\"T_15d62_row9_col2\" class=\"data row9 col2\" >127646</td>\n",
       "      <td id=\"T_15d62_row9_col3\" class=\"data row9 col3\" >0.499892</td>\n",
       "    </tr>\n",
       "    <tr>\n",
       "      <th id=\"T_15d62_level0_row10\" class=\"row_heading level0 row10\" >10</th>\n",
       "      <td id=\"T_15d62_row10_col0\" class=\"data row10 col0\" >HasDependents</td>\n",
       "      <td id=\"T_15d62_row10_col1\" class=\"data row10 col1\" >Yes</td>\n",
       "      <td id=\"T_15d62_row10_col2\" class=\"data row10 col2\" >127742</td>\n",
       "      <td id=\"T_15d62_row10_col3\" class=\"data row10 col3\" >0.500268</td>\n",
       "    </tr>\n",
       "    <tr>\n",
       "      <th id=\"T_15d62_level0_row11\" class=\"row_heading level0 row11\" >11</th>\n",
       "      <td id=\"T_15d62_row11_col0\" class=\"data row11 col0\" >HasDependents</td>\n",
       "      <td id=\"T_15d62_row11_col1\" class=\"data row11 col1\" >No</td>\n",
       "      <td id=\"T_15d62_row11_col2\" class=\"data row11 col2\" >127605</td>\n",
       "      <td id=\"T_15d62_row11_col3\" class=\"data row11 col3\" >0.499732</td>\n",
       "    </tr>\n",
       "    <tr>\n",
       "      <th id=\"T_15d62_level0_row12\" class=\"row_heading level0 row12\" >12</th>\n",
       "      <td id=\"T_15d62_row12_col0\" class=\"data row12 col0\" >HasMortgage</td>\n",
       "      <td id=\"T_15d62_row12_col1\" class=\"data row12 col1\" >Yes</td>\n",
       "      <td id=\"T_15d62_row12_col2\" class=\"data row12 col2\" >127677</td>\n",
       "      <td id=\"T_15d62_row12_col3\" class=\"data row12 col3\" >0.500014</td>\n",
       "    </tr>\n",
       "    <tr>\n",
       "      <th id=\"T_15d62_level0_row13\" class=\"row_heading level0 row13\" >13</th>\n",
       "      <td id=\"T_15d62_row13_col0\" class=\"data row13 col0\" >HasMortgage</td>\n",
       "      <td id=\"T_15d62_row13_col1\" class=\"data row13 col1\" >No</td>\n",
       "      <td id=\"T_15d62_row13_col2\" class=\"data row13 col2\" >127670</td>\n",
       "      <td id=\"T_15d62_row13_col3\" class=\"data row13 col3\" >0.499986</td>\n",
       "    </tr>\n",
       "    <tr>\n",
       "      <th id=\"T_15d62_level0_row14\" class=\"row_heading level0 row14\" >14</th>\n",
       "      <td id=\"T_15d62_row14_col0\" class=\"data row14 col0\" >LoanPurpose</td>\n",
       "      <td id=\"T_15d62_row14_col1\" class=\"data row14 col1\" >Business</td>\n",
       "      <td id=\"T_15d62_row14_col2\" class=\"data row14 col2\" >51298</td>\n",
       "      <td id=\"T_15d62_row14_col3\" class=\"data row14 col3\" >0.200895</td>\n",
       "    </tr>\n",
       "    <tr>\n",
       "      <th id=\"T_15d62_level0_row15\" class=\"row_heading level0 row15\" >15</th>\n",
       "      <td id=\"T_15d62_row15_col0\" class=\"data row15 col0\" >LoanPurpose</td>\n",
       "      <td id=\"T_15d62_row15_col1\" class=\"data row15 col1\" >Home</td>\n",
       "      <td id=\"T_15d62_row15_col2\" class=\"data row15 col2\" >51286</td>\n",
       "      <td id=\"T_15d62_row15_col3\" class=\"data row15 col3\" >0.200848</td>\n",
       "    </tr>\n",
       "    <tr>\n",
       "      <th id=\"T_15d62_level0_row16\" class=\"row_heading level0 row16\" >16</th>\n",
       "      <td id=\"T_15d62_row16_col0\" class=\"data row16 col0\" >LoanPurpose</td>\n",
       "      <td id=\"T_15d62_row16_col1\" class=\"data row16 col1\" >Education</td>\n",
       "      <td id=\"T_15d62_row16_col2\" class=\"data row16 col2\" >51005</td>\n",
       "      <td id=\"T_15d62_row16_col3\" class=\"data row16 col3\" >0.199748</td>\n",
       "    </tr>\n",
       "    <tr>\n",
       "      <th id=\"T_15d62_level0_row17\" class=\"row_heading level0 row17\" >17</th>\n",
       "      <td id=\"T_15d62_row17_col0\" class=\"data row17 col0\" >LoanPurpose</td>\n",
       "      <td id=\"T_15d62_row17_col1\" class=\"data row17 col1\" >Other</td>\n",
       "      <td id=\"T_15d62_row17_col2\" class=\"data row17 col2\" >50914</td>\n",
       "      <td id=\"T_15d62_row17_col3\" class=\"data row17 col3\" >0.199391</td>\n",
       "    </tr>\n",
       "    <tr>\n",
       "      <th id=\"T_15d62_level0_row18\" class=\"row_heading level0 row18\" >18</th>\n",
       "      <td id=\"T_15d62_row18_col0\" class=\"data row18 col0\" >LoanPurpose</td>\n",
       "      <td id=\"T_15d62_row18_col1\" class=\"data row18 col1\" >Auto</td>\n",
       "      <td id=\"T_15d62_row18_col2\" class=\"data row18 col2\" >50844</td>\n",
       "      <td id=\"T_15d62_row18_col3\" class=\"data row18 col3\" >0.199117</td>\n",
       "    </tr>\n",
       "    <tr>\n",
       "      <th id=\"T_15d62_level0_row19\" class=\"row_heading level0 row19\" >19</th>\n",
       "      <td id=\"T_15d62_row19_col0\" class=\"data row19 col0\" >MaritalStatus</td>\n",
       "      <td id=\"T_15d62_row19_col1\" class=\"data row19 col1\" >Married</td>\n",
       "      <td id=\"T_15d62_row19_col2\" class=\"data row19 col2\" >85302</td>\n",
       "      <td id=\"T_15d62_row19_col3\" class=\"data row19 col3\" >0.334063</td>\n",
       "    </tr>\n",
       "    <tr>\n",
       "      <th id=\"T_15d62_level0_row20\" class=\"row_heading level0 row20\" >20</th>\n",
       "      <td id=\"T_15d62_row20_col0\" class=\"data row20 col0\" >MaritalStatus</td>\n",
       "      <td id=\"T_15d62_row20_col1\" class=\"data row20 col1\" >Divorced</td>\n",
       "      <td id=\"T_15d62_row20_col2\" class=\"data row20 col2\" >85033</td>\n",
       "      <td id=\"T_15d62_row20_col3\" class=\"data row20 col3\" >0.333010</td>\n",
       "    </tr>\n",
       "    <tr>\n",
       "      <th id=\"T_15d62_level0_row21\" class=\"row_heading level0 row21\" >21</th>\n",
       "      <td id=\"T_15d62_row21_col0\" class=\"data row21 col0\" >MaritalStatus</td>\n",
       "      <td id=\"T_15d62_row21_col1\" class=\"data row21 col1\" >Single</td>\n",
       "      <td id=\"T_15d62_row21_col2\" class=\"data row21 col2\" >85012</td>\n",
       "      <td id=\"T_15d62_row21_col3\" class=\"data row21 col3\" >0.332927</td>\n",
       "    </tr>\n",
       "  </tbody>\n",
       "</table>\n"
      ],
      "text/plain": [
       "<pandas.io.formats.style.Styler at 0x1303a4bb0>"
      ]
     },
     "execution_count": 114,
     "metadata": {},
     "output_type": "execute_result"
    }
   ],
   "source": [
    "unique_list=list(counts[\"variable\"].unique())\n",
    "counts.style.background_gradient(axis=0,cmap='Spectral',gmap=counts['variable'].apply(lambda x: (unique_list.index(x))%3))  "
   ]
  },
  {
   "cell_type": "code",
   "execution_count": 54,
   "metadata": {},
   "outputs": [],
   "source": [
    "counts.to_csv(\"saved_data/dataset_counts.csv\")"
   ]
  },
  {
   "cell_type": "markdown",
   "metadata": {},
   "source": [
    "### Target Var Class Distribution"
   ]
  },
  {
   "cell_type": "code",
   "execution_count": 115,
   "metadata": {},
   "outputs": [
    {
     "data": {
      "text/html": [
       "<div>\n",
       "<style scoped>\n",
       "    .dataframe tbody tr th:only-of-type {\n",
       "        vertical-align: middle;\n",
       "    }\n",
       "\n",
       "    .dataframe tbody tr th {\n",
       "        vertical-align: top;\n",
       "    }\n",
       "\n",
       "    .dataframe thead th {\n",
       "        text-align: right;\n",
       "    }\n",
       "</style>\n",
       "<table border=\"1\" class=\"dataframe\">\n",
       "  <thead>\n",
       "    <tr style=\"text-align: right;\">\n",
       "      <th></th>\n",
       "      <th>count</th>\n",
       "      <th>proportion</th>\n",
       "    </tr>\n",
       "    <tr>\n",
       "      <th>Default</th>\n",
       "      <th></th>\n",
       "      <th></th>\n",
       "    </tr>\n",
       "  </thead>\n",
       "  <tbody>\n",
       "    <tr>\n",
       "      <th>0</th>\n",
       "      <td>225694</td>\n",
       "      <td>0.883872</td>\n",
       "    </tr>\n",
       "    <tr>\n",
       "      <th>1</th>\n",
       "      <td>29653</td>\n",
       "      <td>0.116128</td>\n",
       "    </tr>\n",
       "  </tbody>\n",
       "</table>\n",
       "</div>"
      ],
      "text/plain": [
       "          count  proportion\n",
       "Default                    \n",
       "0        225694    0.883872\n",
       "1         29653    0.116128"
      ]
     },
     "execution_count": 115,
     "metadata": {},
     "output_type": "execute_result"
    }
   ],
   "source": [
    "default_counts=pd.DataFrame(data[\"Default\"].value_counts())\n",
    "default_counts[\"proportion\"]=default_counts/default_counts.sum()\n",
    "default_counts"
   ]
  },
  {
   "cell_type": "markdown",
   "metadata": {},
   "source": [
    "### Looking for missing values"
   ]
  },
  {
   "cell_type": "code",
   "execution_count": 32,
   "metadata": {},
   "outputs": [
    {
     "data": {
      "text/plain": [
       "LoanID            False\n",
       "Age               False\n",
       "Income            False\n",
       "LoanAmount        False\n",
       "CreditScore       False\n",
       "MonthsEmployed    False\n",
       "NumCreditLines    False\n",
       "InterestRate      False\n",
       "LoanTerm          False\n",
       "DTIRatio          False\n",
       "Education         False\n",
       "EmploymentType    False\n",
       "MaritalStatus     False\n",
       "HasMortgage       False\n",
       "HasDependents     False\n",
       "LoanPurpose       False\n",
       "HasCoSigner       False\n",
       "Default           False\n",
       "dtype: bool"
      ]
     },
     "execution_count": 32,
     "metadata": {},
     "output_type": "execute_result"
    }
   ],
   "source": [
    "data.isna().any()"
   ]
  }
 ],
 "metadata": {
  "kernelspec": {
   "display_name": "homl3",
   "language": "python",
   "name": "python3"
  },
  "language_info": {
   "codemirror_mode": {
    "name": "ipython",
    "version": 3
   },
   "file_extension": ".py",
   "mimetype": "text/x-python",
   "name": "python",
   "nbconvert_exporter": "python",
   "pygments_lexer": "ipython3",
   "version": "3.10.14"
  }
 },
 "nbformat": 4,
 "nbformat_minor": 2
}
